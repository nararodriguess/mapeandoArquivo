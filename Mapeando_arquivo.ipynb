{
  "nbformat": 4,
  "nbformat_minor": 0,
  "metadata": {
    "colab": {
      "name": "Mapeando_arquivo.ipynb",
      "provenance": [],
      "authorship_tag": "ABX9TyOwyxTlxgbW0mAj4mfVLBwt",
      "include_colab_link": true
    },
    "kernelspec": {
      "name": "python3",
      "display_name": "Python 3"
    },
    "language_info": {
      "name": "python"
    }
  },
  "cells": [
    {
      "cell_type": "markdown",
      "metadata": {
        "id": "view-in-github",
        "colab_type": "text"
      },
      "source": [
        "<a href=\"https://colab.research.google.com/github/nararodriguess/mapeandoArquivo/blob/main/Mapeando_arquivo.ipynb\" target=\"_parent\"><img src=\"https://colab.research.google.com/assets/colab-badge.svg\" alt=\"Open In Colab\"/></a>"
      ]
    },
    {
      "cell_type": "markdown",
      "source": [
        "# Importando bibliotecas: 📚"
      ],
      "metadata": {
        "id": "7xKIrHt6aZBB"
      }
    },
    {
      "cell_type": "code",
      "execution_count": null,
      "metadata": {
        "id": "jwc8ivNn4wmT"
      },
      "outputs": [],
      "source": [
        "!pip install pyspark"
      ]
    },
    {
      "cell_type": "code",
      "source": [
        "import pyspark\n",
        "from pyspark.sql import SparkSession"
      ],
      "metadata": {
        "id": "1C8VESig5WSg"
      },
      "execution_count": 3,
      "outputs": []
    },
    {
      "cell_type": "code",
      "source": [
        "from random import randint\n",
        "from operator import add"
      ],
      "metadata": {
        "id": "TkE-fwF7TG5y"
      },
      "execution_count": 13,
      "outputs": []
    },
    {
      "cell_type": "markdown",
      "source": [
        "# Criando e importando uma contagem de números aleatórios: 🔢"
      ],
      "metadata": {
        "id": "zBBDqSYegUbu"
      }
    },
    {
      "cell_type": "code",
      "source": [
        "count = 1 * 100 * 100 * 100\n",
        "for _ in range (count):\n",
        "  value = randint(0,10)\n",
        "  if value != 5:\n",
        "    print(value, end = \" \")\n",
        "  else:\n",
        "    print(value)\n",
        "# Salvei o resultado em um arquivo .txt e importei para o colab "
      ],
      "metadata": {
        "id": "YQ8JfzgvXe57"
      },
      "execution_count": null,
      "outputs": []
    },
    {
      "cell_type": "code",
      "source": [
        "filename = \"numeros.txt\""
      ],
      "metadata": {
        "id": "surkFXlegKWt"
      },
      "execution_count": 12,
      "outputs": []
    },
    {
      "cell_type": "markdown",
      "source": [
        "# Criando a Sessão: 🎫"
      ],
      "metadata": {
        "id": "LyidkxDIg7Cp"
      }
    },
    {
      "cell_type": "code",
      "source": [
        "spark = SparkSession.builder.appName(\"Mapeando_Uma_Variável\").getOrCreate()"
      ],
      "metadata": {
        "id": "AssaXidrXjLJ"
      },
      "execution_count": 9,
      "outputs": []
    },
    {
      "cell_type": "markdown",
      "source": [
        "# Transformando .txt em rdd:⚡\n",
        "\n"
      ],
      "metadata": {
        "id": "q_VAIl1cjQbZ"
      }
    },
    {
      "cell_type": "code",
      "source": [
        "lines_rdd = spark.read.text(filename).rdd.map(lambda r: r[0]) \n",
        "print(\"Numbers of partitions: {}\".format(lines_rdd.getNumPartitions()))\n",
        "\n",
        "\n",
        "\n"
      ],
      "metadata": {
        "colab": {
          "base_uri": "https://localhost:8080/"
        },
        "id": "CrcAawuEgkx7",
        "outputId": "f8a2e981-ded5-4037-d326-02df0b34508e"
      },
      "execution_count": 14,
      "outputs": [
        {
          "output_type": "stream",
          "name": "stdout",
          "text": [
            "Numbers of partitions: 1\n"
          ]
        }
      ]
    },
    {
      "cell_type": "markdown",
      "source": [
        "# Aplicando a redução por chave e fazendo uma contagem: ⌛\n",
        "\n",
        " \n",
        "\n",
        "1.   **reduceByKey()**: Mescla os valores de cada chave usando uma função de redução associativa e comutativa;\n",
        "2.   **map()**: serve para aplicarmos uma função a cada um dos elementos passado em lista como argumento a ela;\n",
        "3. **lambda**: é uma função anônima"
      ],
      "metadata": {
        "id": "xvi21iFcjckb"
      }
    },
    {
      "cell_type": "code",
      "source": [
        "counts = lines_rdd.flatMap(lambda x: x.split(' ')).map(lambda x: (x, 1)).reduceByKey(add) "
      ],
      "metadata": {
        "id": "8UoMIwlxg6vu"
      },
      "execution_count": 15,
      "outputs": []
    },
    {
      "cell_type": "markdown",
      "source": [
        "# Imprimindo resultado em tela:"
      ],
      "metadata": {
        "id": "HYMT-oGhjfuV"
      }
    },
    {
      "cell_type": "code",
      "source": [
        "output = counts.collect()\n",
        "for (number, count) in output:\n",
        "  print(\"%s: %i\" % (number, count))"
      ],
      "metadata": {
        "colab": {
          "base_uri": "https://localhost:8080/"
        },
        "id": "TkV4Vbsdjf1r",
        "outputId": "150a4ab2-d172-42a6-b463-e3314ddb2466"
      },
      "execution_count": 19,
      "outputs": [
        {
          "output_type": "stream",
          "name": "stdout",
          "text": [
            "4: 5049\n",
            "7: 5056\n",
            "9: 5234\n",
            "2: 5106\n",
            "10: 5111\n",
            "8: 5038\n",
            "6: 5188\n",
            "0: 5059\n",
            "3: 5082\n",
            "1: 4998\n",
            "5: 4998\n",
            ": 1\n"
          ]
        }
      ]
    }
  ]
}